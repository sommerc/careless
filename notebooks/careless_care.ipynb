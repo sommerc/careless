{
 "cells": [
  {
   "cell_type": "markdown",
   "metadata": {},
   "source": [
    "# CARE-*less* care\n",
    "---"
   ]
  },
  {
   "cell_type": "markdown",
   "metadata": {},
   "source": [
    "#### Usage:\n",
    "\n",
    "A **code cell** will either:\n",
    "* import required modules\n",
    "* produce GUI elements for setting parameters or input files\n",
    "* execute a CARE processing step\n",
    "* an execution is finished, when the *-symbol left of the code cell disappears\n",
    "\n",
    "Use **SHIFT+ENTER** to execute the selected code cell and step through the notebook\n",
    "\n",
    "#### Note:\n",
    "* CARE requires perfectly alligned pairs of low and high quality images for training. The low quality image can have a by a factor of 2 lower resoltion. \n",
    "* After training, new, low quality images can be predicted with the trained model.\n",
    "* Input images will be loaded with the Bioformats library (supports e. g. tif, czi, lsm, etc.)\n",
    "* 2D, 3D and movies are supported.\n",
    "* Each channel will be processed independently\n",
    "* For more information visit the [CARE-less](https://git.ist.ac.at/csommer/careless) or the [CARE](http://csbdeep.bioimagecomputing.com/) webpage"
   ]
  },
  {
   "cell_type": "code",
   "execution_count": null,
   "metadata": {},
   "outputs": [],
   "source": [
    "from careless.care import care"
   ]
  },
  {
   "cell_type": "markdown",
   "metadata": {},
   "source": [
    "## 0. Create or load project file\n",
    "___\n",
    "if project has been trained already, you can jump to section **4. Prediction** after loading the project file"
   ]
  },
  {
   "cell_type": "code",
   "execution_count": null,
   "metadata": {},
   "outputs": [],
   "source": [
    "care.select_project()"
   ]
  },
  {
   "cell_type": "markdown",
   "metadata": {},
   "source": [
    "## 1. Input files and parameters\n",
    "---"
   ]
  },
  {
   "cell_type": "markdown",
   "metadata": {},
   "source": [
    "if project has been trained already, you can jump to section **4. Prediction** after loading the project file"
   ]
  },
  {
   "cell_type": "code",
   "execution_count": null,
   "metadata": {},
   "outputs": [],
   "source": [
    "care.select_input()"
   ]
  },
  {
   "cell_type": "markdown",
   "metadata": {},
   "source": [
    "## 2. Extract training data\n",
    "___"
   ]
  },
  {
   "cell_type": "code",
   "execution_count": null,
   "metadata": {},
   "outputs": [],
   "source": [
    "care.select_patch_parameter()"
   ]
  },
  {
   "cell_type": "code",
   "execution_count": null,
   "metadata": {},
   "outputs": [],
   "source": [
    "care.params.save()\n",
    "care.CareTrainer().create_patches()"
   ]
  },
  {
   "cell_type": "markdown",
   "metadata": {},
   "source": [
    "## 3. Training\n",
    "---"
   ]
  },
  {
   "cell_type": "code",
   "execution_count": null,
   "metadata": {},
   "outputs": [],
   "source": [
    "care.select_train_paramter()\n",
    "care.select_probabilistic()"
   ]
  },
  {
   "cell_type": "code",
   "execution_count": null,
   "metadata": {},
   "outputs": [],
   "source": [
    "care.params.save()\n",
    "care.CareTrainer().train()"
   ]
  },
  {
   "cell_type": "markdown",
   "metadata": {},
   "source": [
    "## 4. Prediction\n",
    "---\n",
    "**requires a loaded and trained project**\n",
    "* Images will be tiled according to the **n_tiles** (z,y,x) parameter. (usefull for big images)"
   ]
  },
  {
   "cell_type": "code",
   "execution_count": null,
   "metadata": {},
   "outputs": [],
   "source": [
    "predict_file = care.select_file_to_predict()"
   ]
  },
  {
   "cell_type": "code",
   "execution_count": null,
   "metadata": {},
   "outputs": [],
   "source": [
    "care.CareTrainer().predict_multiple( predict_file.value, n_tiles=(1,4,4) )"
   ]
  },
  {
   "cell_type": "code",
   "execution_count": null,
   "metadata": {},
   "outputs": [],
   "source": []
  }
 ],
 "metadata": {
  "kernelspec": {
   "display_name": "Python 3 (ipykernel)",
   "language": "python",
   "name": "python3"
  },
  "language_info": {
   "codemirror_mode": {
    "name": "ipython",
    "version": 3
   },
   "file_extension": ".py",
   "mimetype": "text/x-python",
   "name": "python",
   "nbconvert_exporter": "python",
   "pygments_lexer": "ipython3",
   "version": "3.9.16"
  }
 },
 "nbformat": 4,
 "nbformat_minor": 4
}
