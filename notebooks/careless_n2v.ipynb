{
 "cells": [
  {
   "cell_type": "markdown",
   "metadata": {},
   "source": [
    "# CARE-*less* Noise2Void \n",
    "---"
   ]
  },
  {
   "cell_type": "markdown",
   "metadata": {},
   "source": [
    "#### Usage:\n",
    "\n",
    "A **code cell** will either:\n",
    "* import required modules\n",
    "* produce GUI elements for setting parameters or input files\n",
    "* execute a N2V processing step\n",
    "* an execution is finished, when the *-symbol left of the code cell disappears\n",
    "\n",
    "Use **SHIFT+ENTER** to execute the selected code cell and step through the notebook\n",
    "\n",
    "#### Note:\n",
    "* Input images will be loaded with the Bioformats library (supports e. g. tif, czi, lsm, etc.)\n",
    "* 2D, 3D and movies are supported.\n",
    "* Each channel will be processed independently\n",
    "* For more information visit the [CARE-less](https://git.ist.ac.at/csommer/careless) or the [N2V](https://github.com/juglab/n2v) webpage"
   ]
  },
  {
   "cell_type": "code",
   "execution_count": null,
   "metadata": {
    "pycharm": {
     "is_executing": false
    }
   },
   "outputs": [],
   "source": [
    "from careless.n2v import n2v"
   ]
  },
  {
   "cell_type": "markdown",
   "metadata": {},
   "source": [
    "## 0. Create or load project file\n",
    "___\n",
    "if project has been trained already, you can jump to section **4. Predict only** after loading the project file"
   ]
  },
  {
   "cell_type": "code",
   "execution_count": null,
   "metadata": {
    "pycharm": {
     "is_executing": false
    }
   },
   "outputs": [],
   "source": [
    "n2v.select_project()"
   ]
  },
  {
   "cell_type": "markdown",
   "metadata": {},
   "source": [
    "## 1. Input files\n",
    "---"
   ]
  },
  {
   "cell_type": "code",
   "execution_count": null,
   "metadata": {
    "pycharm": {
     "is_executing": false
    }
   },
   "outputs": [],
   "source": [
    "n2v.select_input()"
   ]
  },
  {
   "cell_type": "markdown",
   "metadata": {},
   "source": [
    "## 2. Parameters\n",
    "___\n",
    "#### 🆕: Structured Noise2Void\n",
    "Structured N2V greatly improves N2V results in cases of systematic / non-independent noise.\n",
    "\n",
    "Presets for structured noise:\n",
    "\n",
    "* horizontal stripes\n",
    "* vertical stripes\n",
    "\n",
    "Choose, if images or volumes exhibit structured noise such as horizontal or vertical stripe artifacts, e. g. due to detector over-saturation.\n",
    "\n",
    "* Deep Interpolation (3D only)\n",
    "\n",
    "Choose, for Movies to achieve comparable results as with the recently developed [DeepInterpolation](https://www.nature.com/articles/s41592-021-01285-2) denoising tool.\n"
   ]
  },
  {
   "cell_type": "code",
   "execution_count": null,
   "metadata": {
    "pycharm": {
     "is_executing": false
    }
   },
   "outputs": [],
   "source": [
    "n2v.select_channel()\n",
    "n2v.select_patch_parameter()\n",
    "n2v.select_npatch_per_image()\n",
    "n2v.select_augment()\n",
    "n2v.select_n2v_parameter()\n",
    "n2v.select_train_paramter()\n",
    "n2v.select_output_zarr()"
   ]
  },
  {
   "cell_type": "markdown",
   "metadata": {},
   "source": [
    "## 3. Denoise (train and predict)\n",
    "---\n",
    "* Images will be tiled according to the **n_tiles** = **(z, y, x)** parameter. (required for big images)\n",
    "* For advanced training parameters type and execute *n2v.train_predict?* in an empty code cell"
   ]
  },
  {
   "cell_type": "code",
   "execution_count": null,
   "metadata": {
    "pycharm": {
     "is_executing": false
    }
   },
   "outputs": [],
   "source": [
    "n2v.params.save()\n",
    "n2v.train_predict(n_tiles=(1, 2, 2))"
   ]
  },
  {
   "cell_type": "markdown",
   "metadata": {},
   "source": [
    "## 4. Predict only\n",
    "---\n",
    "\n",
    "**requires a loaded and trained project**\n",
    "* Images will be tiled according to the **n_tiles** (z,y,x) parameter. (usefull for big images)"
   ]
  },
  {
   "cell_type": "code",
   "execution_count": null,
   "metadata": {},
   "outputs": [],
   "source": [
    "n2v.select_output_zarr()\n",
    "files = n2v.select_file_to_predict()"
   ]
  },
  {
   "cell_type": "code",
   "execution_count": null,
   "metadata": {},
   "outputs": [],
   "source": [
    "n2v.predict(files.value, n_tiles=(1, 4, 4))"
   ]
  },
  {
   "cell_type": "code",
   "execution_count": null,
   "metadata": {},
   "outputs": [],
   "source": []
  }
 ],
 "metadata": {
  "kernelspec": {
   "display_name": "Python 3 (ipykernel)",
   "language": "python",
   "name": "python3"
  },
  "language_info": {
   "codemirror_mode": {
    "name": "ipython",
    "version": 3
   },
   "file_extension": ".py",
   "mimetype": "text/x-python",
   "name": "python",
   "nbconvert_exporter": "python",
   "pygments_lexer": "ipython3",
   "version": "3.9.20"
  },
  "pycharm": {
   "stem_cell": {
    "cell_type": "raw",
    "metadata": {
     "collapsed": false
    },
    "source": []
   }
  }
 },
 "nbformat": 4,
 "nbformat_minor": 4
}
