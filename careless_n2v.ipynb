{
 "cells": [
  {
   "cell_type": "markdown",
   "metadata": {},
   "source": [
    "# CARE-*less* Noise2Void \n",
    "---"
   ]
  },
  {
   "cell_type": "markdown",
   "metadata": {},
   "source": [
    "#### Usage:\n",
    "\n",
    "A **code cell** will either:\n",
    "* import required modules\n",
    "* produce GUI elements for setting parameters or input files\n",
    "* execute a N2V processing step\n",
    "* an execution is finished, when the *-symbol left of the code cell disappears\n",
    "\n",
    "Use **SHIFT+ENTER** to execute the selected code cell and step through the notebook\n",
    "\n",
    "#### Note:\n",
    "* Input images will be loaded with the Bioformats library (supports e. g. tif, czi, lsm, etc.)\n",
    "* 2D, 3D and movies are supported.\n",
    "* Each channel will be processed independently\n",
    "* For more information visit the [CARE-less](https://git.ist.ac.at/csommer/careless) or the [N2V](https://github.com/juglab/n2v) webpage"
   ]
  },
  {
   "cell_type": "code",
   "execution_count": 1,
   "metadata": {
    "pycharm": {
     "is_executing": false
    }
   },
   "outputs": [],
   "source": [
    "from careless.n2v import n2v"
   ]
  },
  {
   "cell_type": "markdown",
   "metadata": {},
   "source": [
    "## 0. Create or load project file\n",
    "___\n",
    "if project has been trained already, you can jump to section **4. Predict only** after loading the project file"
   ]
  },
  {
   "cell_type": "code",
   "execution_count": 2,
   "metadata": {
    "pycharm": {
     "is_executing": false
    }
   },
   "outputs": [
    {
     "data": {
      "application/vnd.jupyter.widget-view+json": {
       "model_id": "600282ec958c47a1aebf3bae61c8a7fb",
       "version_major": 2,
       "version_minor": 0
      },
      "text/plain": [
       "VBox(children=(HBox(children=(Label(value='Project:'), Button(description='New', style=ButtonStyle()), Button(…"
      ]
     },
     "metadata": {},
     "output_type": "display_data"
    }
   ],
   "source": [
    "n2v.select_project()"
   ]
  },
  {
   "cell_type": "markdown",
   "metadata": {},
   "source": [
    "## 1. Input files\n",
    "---"
   ]
  },
  {
   "cell_type": "code",
   "execution_count": 7,
   "metadata": {
    "pycharm": {
     "is_executing": false
    }
   },
   "outputs": [
    {
     "data": {
      "application/vnd.jupyter.widget-view+json": {
       "model_id": "233c335e032f496eb287b266bb96620f",
       "version_major": 2,
       "version_minor": 0
      },
      "text/plain": [
       "VBox(children=(VBox(children=(HBox(children=(Label(value='H:/projects/024_care_bif/fluocell/in/test', layout=L…"
      ]
     },
     "metadata": {},
     "output_type": "display_data"
    }
   ],
   "source": [
    "n2v.select_input()"
   ]
  },
  {
   "cell_type": "markdown",
   "metadata": {},
   "source": [
    "## 2. Parameters\n",
    "___\n",
    "#### 🆕: Structured Noise2Void\n",
    "Structured N2V greatly improves N2V results in cases of systematic / non-independent noise.\n",
    "\n",
    "Presets for structured noise:\n",
    "\n",
    "* horizontal stripes\n",
    "* vertical stripes\n",
    "\n",
    "Choose, if images or volumes exhibit structured noise such as horizontal or vertical stripe artifacts, e. g. due to detector over-saturation.\n",
    "\n",
    "* Deep Interpolation (3D only)\n",
    "\n",
    "Choose, for Movies to achieve comparable results as with the recently developed [DeepInterpolation](https://www.nature.com/articles/s41592-021-01285-2) denoising tool.\n"
   ]
  },
  {
   "cell_type": "code",
   "execution_count": 8,
   "metadata": {
    "pycharm": {
     "is_executing": false
    }
   },
   "outputs": [
    {
     "data": {
      "application/vnd.jupyter.widget-view+json": {
       "model_id": "824b78e5fb844d659326075767eaa6c8",
       "version_major": 2,
       "version_minor": 0
      },
      "text/plain": [
       "HBox(children=(Label(value='Channels', layout=Layout(width='200px')), SelectMultiple(index=(1,), options=('0',…"
      ]
     },
     "metadata": {},
     "output_type": "display_data"
    },
    {
     "data": {
      "application/vnd.jupyter.widget-view+json": {
       "model_id": "50298eb416fc4bfb9681c164eb926641",
       "version_major": 2,
       "version_minor": 0
      },
      "text/plain": [
       "HBox(children=(Label(value='Patch size', layout=Layout(width='200px')), HBox(children=(Label(value='Y'), Dropd…"
      ]
     },
     "metadata": {},
     "output_type": "display_data"
    },
    {
     "data": {
      "application/vnd.jupyter.widget-view+json": {
       "model_id": "af62bb89ab884ddc9f0c878a7717a2f8",
       "version_major": 2,
       "version_minor": 0
      },
      "text/plain": [
       "HBox(children=(Label(value='#Patches per image (-1: all)', layout=Layout(width='200px')), BoundedIntText(value…"
      ]
     },
     "metadata": {},
     "output_type": "display_data"
    },
    {
     "data": {
      "application/vnd.jupyter.widget-view+json": {
       "model_id": "6c8326bf2f6743f7a60483114ac345cd",
       "version_major": 2,
       "version_minor": 0
      },
      "text/plain": [
       "HBox(children=(Label(value='Augment', layout=Layout(width='200px')), Dropdown(index=1, options=(('8 rotation/f…"
      ]
     },
     "metadata": {},
     "output_type": "display_data"
    },
    {
     "data": {
      "application/vnd.jupyter.widget-view+json": {
       "model_id": "3a257afb891b44b7977021222b9d927c",
       "version_major": 2,
       "version_minor": 0
      },
      "text/plain": [
       "VBox(children=(HBox(children=(Label(value='Neighborhood radius', layout=Layout(width='200px')), BoundedIntText…"
      ]
     },
     "metadata": {},
     "output_type": "display_data"
    },
    {
     "data": {
      "application/vnd.jupyter.widget-view+json": {
       "model_id": "90780983a2554e1d80f1ecd87c6bae1e",
       "version_major": 2,
       "version_minor": 0
      },
      "text/plain": [
       "VBox(children=(HBox(children=(Label(value='#Epochs', layout=Layout(width='200px')), BoundedIntText(value=20, m…"
      ]
     },
     "metadata": {},
     "output_type": "display_data"
    }
   ],
   "source": [
    "n2v.select_channel()\n",
    "n2v.select_patch_parameter()\n",
    "n2v.select_npatch_per_image()\n",
    "n2v.select_augment()\n",
    "n2v.select_n2v_parameter()\n",
    "n2v.select_train_paramter()"
   ]
  },
  {
   "cell_type": "markdown",
   "metadata": {},
   "source": [
    "## 3. Denoise (train and predict)\n",
    "---\n",
    "* Images will be tiled according to the **n_tiles** = **(z, y, x)** parameter. (required for big images)\n",
    "* For advanced training parameters type and execute *n2v.train_predict?* in an empty code cell"
   ]
  },
  {
   "cell_type": "code",
   "execution_count": 9,
   "metadata": {
    "pycharm": {
     "is_executing": false
    }
   },
   "outputs": [
    {
     "name": "stdout",
     "output_type": "stream",
     "text": [
      "Loading images ...\n",
      "Training ...\n",
      "  -- Channel 0\n",
      "Generated patches: (400, 128, 128, 1)\n",
      "Generated patches: (400, 128, 128, 1)\n",
      "Generated patches: (400, 128, 128, 1)\n"
     ]
    },
    {
     "ename": "PermissionError",
     "evalue": "[Errno 13] Permission denied: 'H:\\\\projects\\\\024_care_bif\\\\fluocell\\\\in\\\\test\\\\bif_n2v_ch0\\\\config.json'",
     "output_type": "error",
     "traceback": [
      "\u001b[1;31m---------------------------------------------------------------------------\u001b[0m",
      "\u001b[1;31mPermissionError\u001b[0m                           Traceback (most recent call last)",
      "Cell \u001b[1;32mIn[9], line 2\u001b[0m\n\u001b[0;32m      1\u001b[0m n2v\u001b[38;5;241m.\u001b[39mparams\u001b[38;5;241m.\u001b[39msave()\n\u001b[1;32m----> 2\u001b[0m \u001b[43mn2v\u001b[49m\u001b[38;5;241;43m.\u001b[39;49m\u001b[43mtrain_predict\u001b[49m\u001b[43m(\u001b[49m\u001b[43mn_tiles\u001b[49m\u001b[38;5;241;43m=\u001b[39;49m\u001b[43m(\u001b[49m\u001b[38;5;241;43m1\u001b[39;49m\u001b[43m,\u001b[49m\u001b[38;5;241;43m2\u001b[39;49m\u001b[43m,\u001b[49m\u001b[38;5;241;43m2\u001b[39;49m\u001b[43m)\u001b[49m\u001b[43m)\u001b[49m\n",
      "File \u001b[1;32m~\\Desktop\\projects\\024_care_bif\\careless\\careless\\n2v\\n2v.py:493\u001b[0m, in \u001b[0;36mtrain_predict\u001b[1;34m(n_tiles, params, files, headless, **unet_config)\u001b[0m\n\u001b[0;32m    491\u001b[0m basedir \u001b[38;5;241m=\u001b[39m \u001b[38;5;124m\"\u001b[39m\u001b[38;5;124mmodels\u001b[39m\u001b[38;5;124m\"\u001b[39m\n\u001b[0;32m    492\u001b[0m \u001b[38;5;66;03m# We are now creating our network model.\u001b[39;00m\n\u001b[1;32m--> 493\u001b[0m model \u001b[38;5;241m=\u001b[39m \u001b[43mN2V\u001b[49m\u001b[43m(\u001b[49m\u001b[43mconfig\u001b[49m\u001b[38;5;241;43m=\u001b[39;49m\u001b[43mconfig\u001b[49m\u001b[43m,\u001b[49m\u001b[43m \u001b[49m\u001b[43mname\u001b[49m\u001b[38;5;241;43m=\u001b[39;49m\u001b[43mmodel_name\u001b[49m\u001b[43m,\u001b[49m\u001b[43m \u001b[49m\u001b[43mbasedir\u001b[49m\u001b[38;5;241;43m=\u001b[39;49m\u001b[43mparams\u001b[49m\u001b[43m[\u001b[49m\u001b[38;5;124;43m\"\u001b[39;49m\u001b[38;5;124;43min_dir\u001b[39;49m\u001b[38;5;124;43m\"\u001b[39;49m\u001b[43m]\u001b[49m\u001b[43m)\u001b[49m\n\u001b[0;32m    495\u001b[0m history \u001b[38;5;241m=\u001b[39m model\u001b[38;5;241m.\u001b[39mtrain(X, X_val)\n\u001b[0;32m    497\u001b[0m val_patch \u001b[38;5;241m=\u001b[39m X_val[\u001b[38;5;241m0\u001b[39m, \u001b[38;5;241m.\u001b[39m\u001b[38;5;241m.\u001b[39m\u001b[38;5;241m.\u001b[39m, \u001b[38;5;241m0\u001b[39m]\n",
      "File \u001b[1;32m~\\Miniconda3\\envs\\careless2\\lib\\site-packages\\n2v\\models\\n2v_standard.py:101\u001b[0m, in \u001b[0;36mN2V.__init__\u001b[1;34m(self, config, name, basedir)\u001b[0m\n\u001b[0;32m     98\u001b[0m \u001b[38;5;28;01mif\u001b[39;00m config \u001b[38;5;129;01mis\u001b[39;00m \u001b[38;5;129;01mnot\u001b[39;00m \u001b[38;5;28;01mNone\u001b[39;00m:\n\u001b[0;32m     99\u001b[0m     \u001b[38;5;66;03m# config was provided -> update before it is saved to disk\u001b[39;00m\n\u001b[0;32m    100\u001b[0m     \u001b[38;5;28mself\u001b[39m\u001b[38;5;241m.\u001b[39m_update_and_check_config()\n\u001b[1;32m--> 101\u001b[0m \u001b[38;5;28;43mself\u001b[39;49m\u001b[38;5;241;43m.\u001b[39;49m\u001b[43m_set_logdir\u001b[49m\u001b[43m(\u001b[49m\u001b[43m)\u001b[49m\n\u001b[0;32m    102\u001b[0m \u001b[38;5;28;01mif\u001b[39;00m config \u001b[38;5;129;01mis\u001b[39;00m \u001b[38;5;28;01mNone\u001b[39;00m:\n\u001b[0;32m    103\u001b[0m     \u001b[38;5;66;03m# config was loaded from disk -> update it after loading\u001b[39;00m\n\u001b[0;32m    104\u001b[0m     \u001b[38;5;28mself\u001b[39m\u001b[38;5;241m.\u001b[39m_update_and_check_config()\n",
      "File \u001b[1;32m~\\Miniconda3\\envs\\careless2\\lib\\site-packages\\n2v\\models\\n2v_standard.py:432\u001b[0m, in \u001b[0;36mN2V._set_logdir\u001b[1;34m(self)\u001b[0m\n\u001b[0;32m    429\u001b[0m     warnings\u001b[38;5;241m.\u001b[39mwarn(\n\u001b[0;32m    430\u001b[0m         \u001b[38;5;124m'\u001b[39m\u001b[38;5;124moutput path for model already exists, files may be overwritten: \u001b[39m\u001b[38;5;132;01m%s\u001b[39;00m\u001b[38;5;124m'\u001b[39m \u001b[38;5;241m%\u001b[39m \u001b[38;5;28mstr\u001b[39m(\u001b[38;5;28mself\u001b[39m\u001b[38;5;241m.\u001b[39mlogdir\u001b[38;5;241m.\u001b[39mresolve()))\n\u001b[0;32m    431\u001b[0m \u001b[38;5;28mself\u001b[39m\u001b[38;5;241m.\u001b[39mlogdir\u001b[38;5;241m.\u001b[39mmkdir(parents\u001b[38;5;241m=\u001b[39m\u001b[38;5;28;01mTrue\u001b[39;00m, exist_ok\u001b[38;5;241m=\u001b[39m\u001b[38;5;28;01mTrue\u001b[39;00m)\n\u001b[1;32m--> 432\u001b[0m \u001b[43msave_json\u001b[49m\u001b[43m(\u001b[49m\u001b[38;5;28;43mvars\u001b[39;49m\u001b[43m(\u001b[49m\u001b[38;5;28;43mself\u001b[39;49m\u001b[38;5;241;43m.\u001b[39;49m\u001b[43mconfig\u001b[49m\u001b[43m)\u001b[49m\u001b[43m,\u001b[49m\u001b[43m \u001b[49m\u001b[38;5;28;43mstr\u001b[39;49m\u001b[43m(\u001b[49m\u001b[43mconfig_file\u001b[49m\u001b[43m)\u001b[49m\u001b[43m)\u001b[49m\n",
      "File \u001b[1;32m~\\Miniconda3\\envs\\careless2\\lib\\site-packages\\csbdeep\\utils\\utils.py:44\u001b[0m, in \u001b[0;36msave_json\u001b[1;34m(data, fpath, **kwargs)\u001b[0m\n\u001b[0;32m     43\u001b[0m \u001b[38;5;28;01mdef\u001b[39;00m \u001b[38;5;21msave_json\u001b[39m(data,fpath,\u001b[38;5;241m*\u001b[39m\u001b[38;5;241m*\u001b[39mkwargs):\n\u001b[1;32m---> 44\u001b[0m     \u001b[38;5;28;01mwith\u001b[39;00m \u001b[38;5;28;43mopen\u001b[39;49m\u001b[43m(\u001b[49m\u001b[43mfpath\u001b[49m\u001b[43m,\u001b[49m\u001b[38;5;124;43m'\u001b[39;49m\u001b[38;5;124;43mw\u001b[39;49m\u001b[38;5;124;43m'\u001b[39;49m\u001b[43m)\u001b[49m \u001b[38;5;28;01mas\u001b[39;00m f:\n\u001b[0;32m     45\u001b[0m         f\u001b[38;5;241m.\u001b[39mwrite(json\u001b[38;5;241m.\u001b[39mdumps(data,\u001b[38;5;241m*\u001b[39m\u001b[38;5;241m*\u001b[39mkwargs))\n",
      "\u001b[1;31mPermissionError\u001b[0m: [Errno 13] Permission denied: 'H:\\\\projects\\\\024_care_bif\\\\fluocell\\\\in\\\\test\\\\bif_n2v_ch0\\\\config.json'"
     ]
    }
   ],
   "source": [
    "n2v.params.save()\n",
    "n2v.train_predict(n_tiles=(1,2,2))"
   ]
  },
  {
   "cell_type": "markdown",
   "metadata": {},
   "source": [
    "## 4. Predict only\n",
    "---\n",
    "\n",
    "**requires a loaded and trained project**\n",
    "* Images will be tiled according to the **n_tiles** (z,y,x) parameter. (usefull for big images)"
   ]
  },
  {
   "cell_type": "code",
   "execution_count": null,
   "metadata": {},
   "outputs": [],
   "source": [
    "files = n2v.select_file_to_predict()"
   ]
  },
  {
   "cell_type": "code",
   "execution_count": null,
   "metadata": {},
   "outputs": [],
   "source": [
    "n2v.predict( files.value, n_tiles=(1,2,2) )"
   ]
  },
  {
   "cell_type": "code",
   "execution_count": null,
   "metadata": {},
   "outputs": [],
   "source": []
  }
 ],
 "metadata": {
  "kernelspec": {
   "display_name": "Python 3 (ipykernel)",
   "language": "python",
   "name": "python3"
  },
  "language_info": {
   "codemirror_mode": {
    "name": "ipython",
    "version": 3
   },
   "file_extension": ".py",
   "mimetype": "text/x-python",
   "name": "python",
   "nbconvert_exporter": "python",
   "pygments_lexer": "ipython3",
   "version": "3.9.15"
  },
  "pycharm": {
   "stem_cell": {
    "cell_type": "raw",
    "metadata": {
     "collapsed": false
    },
    "source": []
   }
  }
 },
 "nbformat": 4,
 "nbformat_minor": 4
}
