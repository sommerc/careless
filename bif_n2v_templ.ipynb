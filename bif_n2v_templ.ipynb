{
 "cells": [
  {
   "cell_type": "markdown",
   "metadata": {},
   "source": [
    "# N2V user interface\n",
    "---\n",
    "Use SHIFT+ENTER to step through the code cells"
   ]
  },
  {
   "cell_type": "code",
   "execution_count": 1,
   "metadata": {},
   "outputs": [
    {
     "name": "stderr",
     "output_type": "stream",
     "text": [
      "Using TensorFlow backend.\n"
     ]
    }
   ],
   "source": [
    "from bif_n2v import bif_n2v\n",
    "get_ipython().magic('reload_ext autoreload')\n",
    "get_ipython().magic('autoreload 2')"
   ]
  },
  {
   "cell_type": "code",
   "execution_count": null,
   "metadata": {},
   "outputs": [],
   "source": []
  },
  {
   "cell_type": "markdown",
   "metadata": {},
   "source": [
    "## 0. Create or load project file\n",
    "___"
   ]
  },
  {
   "cell_type": "code",
   "execution_count": null,
   "metadata": {},
   "outputs": [],
   "source": [
    "bif_n2v.select_project()"
   ]
  },
  {
   "cell_type": "code",
   "execution_count": null,
   "metadata": {},
   "outputs": [],
   "source": [
    "bif_n2v.params"
   ]
  },
  {
   "cell_type": "markdown",
   "metadata": {},
   "source": [
    "## 1. Input files\n",
    "---"
   ]
  },
  {
   "cell_type": "code",
   "execution_count": null,
   "metadata": {},
   "outputs": [],
   "source": [
    "bif_n2v.select_input()"
   ]
  },
  {
   "cell_type": "code",
   "execution_count": 2,
   "metadata": {},
   "outputs": [
    {
     "data": {
      "text/plain": [
       "{'axes': 'ZYX',\n",
       " 'glob': '*.tif',\n",
       " 'in_dir': 'H:/projects/024_care_bif/n2v/test_TCZYX/in',\n",
       " 'n2v_neighborhood_radius': 5,\n",
       " 'n2v_patch_shape': [],\n",
       " 'n2v_perc_pix': 0.016,\n",
       " 'n_patches_per_image': 64,\n",
       " 'name': 'bif_n2v',\n",
       " 'out_dir': 'C:/Users/csommer/Desktop',\n",
       " 'patch_size': [16, 64, 64],\n",
       " 'train_batch_size': 16,\n",
       " 'train_channels': [0],\n",
       " 'train_epochs': 2,\n",
       " 'train_steps_per_epoch': 10}"
      ]
     },
     "execution_count": 2,
     "metadata": {},
     "output_type": "execute_result"
    }
   ],
   "source": [
    "bif_n2v.params"
   ]
  },
  {
   "cell_type": "markdown",
   "metadata": {},
   "source": [
    "## 2. Parameters\n",
    "___"
   ]
  },
  {
   "cell_type": "code",
   "execution_count": 9,
   "metadata": {},
   "outputs": [
    {
     "data": {
      "application/vnd.jupyter.widget-view+json": {
       "model_id": "182eb1209840457d9985aca6feb0650c",
       "version_major": 2,
       "version_minor": 0
      },
      "text/plain": [
       "HBox(children=(Label(value='Channels', layout=Layout(width='100px')), SelectMultiple(index=(0,), options=('0',…"
      ]
     },
     "metadata": {},
     "output_type": "display_data"
    },
    {
     "data": {
      "application/vnd.jupyter.widget-view+json": {
       "model_id": "8b946e629263432d8d97eb46f92ecbff",
       "version_major": 2,
       "version_minor": 0
      },
      "text/plain": [
       "HBox(children=(Label(value='Patch size', layout=Layout(width='100px')), HBox(children=(Label(value='Z'), Dropd…"
      ]
     },
     "metadata": {},
     "output_type": "display_data"
    },
    {
     "data": {
      "application/vnd.jupyter.widget-view+json": {
       "model_id": "e264361ac5d34bd19895b615ace50ee0",
       "version_major": 2,
       "version_minor": 0
      },
      "text/plain": [
       "VBox(children=(HBox(children=(Label(value='#Epochs', layout=Layout(width='100px')), BoundedIntText(value=2, ma…"
      ]
     },
     "metadata": {},
     "output_type": "display_data"
    },
    {
     "data": {
      "application/vnd.jupyter.widget-view+json": {
       "model_id": "8b7602c6026d4d7198a8169e220a2c08",
       "version_major": 2,
       "version_minor": 0
      },
      "text/plain": [
       "HBox(children=(Label(value='#Patches per image', layout=Layout(width='100px')), BoundedIntText(value=64, max=8…"
      ]
     },
     "metadata": {},
     "output_type": "display_data"
    },
    {
     "data": {
      "application/vnd.jupyter.widget-view+json": {
       "model_id": "ed4b8097c7514a8ab44030dc742dd27d",
       "version_major": 2,
       "version_minor": 0
      },
      "text/plain": [
       "VBox(children=(HBox(children=(Label(value='Neighborhood radius', layout=Layout(width='100px')), BoundedIntText…"
      ]
     },
     "metadata": {},
     "output_type": "display_data"
    }
   ],
   "source": [
    "bif_n2v.select_channel()\n",
    "bif_n2v.select_patch_parameter()\n",
    "bif_n2v.select_train_paramter()\n",
    "bif_n2v.select_npatch_per_image()\n",
    "bif_n2v.select_n2v_parameter()"
   ]
  },
  {
   "cell_type": "markdown",
   "metadata": {},
   "source": [
    "## 3. Denoise\n",
    "---"
   ]
  },
  {
   "cell_type": "code",
   "execution_count": null,
   "metadata": {},
   "outputs": [
    {
     "name": "stdout",
     "output_type": "stream",
     "text": [
      "Loading images ...\n",
      "['TCZYX', 'TCZYX']\n",
      "  --  H:\\projects\\024_care_bif\\n2v\\test_TCZYX\\in\\flo_01.tif Axes(t=10, z=16, c=3, y=904, x=1015)\n",
      "  --  H:\\projects\\024_care_bif\\n2v\\test_TCZYX\\in\\flo_02.tif Axes(t=21, z=16, c=3, y=904, x=1015)\n",
      "Training channel 0\n",
      "Generated patches: (8680, 8, 32, 32, 1)\n",
      "Generated patches: (18228, 8, 32, 32, 1)\n",
      "X.shape (24217, 8, 32, 32, 1)\n",
      "img_ch.shape [(10, 16, 904, 1015, 1), (21, 16, 904, 1015, 1)]\n",
      "Epoch 1/4\n",
      "100/100 [==============================] - 13s 128ms/step - loss: 0.5905 - n2v_mse: 0.5905 - n2v_abs: 0.4541 - val_loss: 0.4687 - val_n2v_mse: 0.4687 - val_n2v_abs: 0.3572\n",
      "Epoch 2/4\n",
      "100/100 [==============================] - 9s 93ms/step - loss: 1.1137 - n2v_mse: 1.1137 - n2v_abs: 0.3091 - val_loss: 0.9047 - val_n2v_mse: 0.9047 - val_n2v_abs: 0.3912\n",
      "Epoch 3/4\n",
      "100/100 [==============================] - 9s 92ms/step - loss: 1.2396 - n2v_mse: 1.2396 - n2v_abs: 0.2736 - val_loss: 0.3606 - val_n2v_mse: 0.3606 - val_n2v_abs: 0.2271\n",
      "Epoch 4/4\n",
      "100/100 [==============================] - 11s 106ms/step - loss: 0.2204 - n2v_mse: 0.2204 - n2v_abs: 0.1954 - val_loss: 0.2316 - val_n2v_mse: 0.2316 - val_n2v_abs: 0.2828\n",
      "\n",
      "Loading network weights from 'weights_best.h5'.\n"
     ]
    },
    {
     "data": {
      "image/png": "[encoded data removed]",
      "text/plain": [
       "<Figure size 1008x504 with 2 Axes>"
      ]
     },
     "metadata": {},
     "output_type": "display_data"
    },
    {
     "data": {
      "image/png": "[encoded data removed]",
      "text/plain": [
       "<Figure size 1152x360 with 1 Axes>"
      ]
     },
     "metadata": {},
     "output_type": "display_data"
    },
    {
     "name": "stdout",
     "output_type": "stream",
     "text": [
      "Predicting channel 0\n",
      "  -- H:\\projects\\024_care_bif\\n2v\\test_TCZYX\\in\\flo_01.tif\n"
     ]
    },
    {
     "name": "stderr",
     "output_type": "stream",
     "text": [
      "100%|██████████████████████████████████████████████████████████████████████████████████| 32/32 [00:04<00:00,  7.81it/s]\n",
      "100%|██████████████████████████████████████████████████████████████████████████████████| 32/32 [00:04<00:00,  7.71it/s]\n",
      "100%|██████████████████████████████████████████████████████████████████████████████████| 32/32 [00:04<00:00,  8.08it/s]\n",
      "100%|██████████████████████████████████████████████████████████████████████████████████| 32/32 [00:04<00:00,  7.69it/s]\n",
      "100%|██████████████████████████████████████████████████████████████████████████████████| 32/32 [00:04<00:00,  7.54it/s]\n",
      "100%|██████████████████████████████████████████████████████████████████████████████████| 32/32 [00:04<00:00,  7.68it/s]\n",
      "100%|██████████████████████████████████████████████████████████████████████████████████| 32/32 [00:04<00:00,  7.58it/s]\n",
      "100%|██████████████████████████████████████████████████████████████████████████████████| 32/32 [00:04<00:00,  7.39it/s]\n",
      "100%|██████████████████████████████████████████████████████████████████████████████████| 32/32 [00:04<00:00,  7.63it/s]\n",
      "100%|██████████████████████████████████████████████████████████████████████████████████| 32/32 [00:04<00:00,  7.79it/s]\n"
     ]
    },
    {
     "name": "stdout",
     "output_type": "stream",
     "text": [
      "  -- H:\\projects\\024_care_bif\\n2v\\test_TCZYX\\in\\flo_02.tif\n"
     ]
    },
    {
     "name": "stderr",
     "output_type": "stream",
     "text": [
      "100%|██████████████████████████████████████████████████████████████████████████████████| 32/32 [00:04<00:00,  7.70it/s]\n",
      "100%|██████████████████████████████████████████████████████████████████████████████████| 32/32 [00:03<00:00,  8.24it/s]\n",
      "100%|██████████████████████████████████████████████████████████████████████████████████| 32/32 [00:04<00:00,  7.92it/s]\n",
      "100%|██████████████████████████████████████████████████████████████████████████████████| 32/32 [00:04<00:00,  7.67it/s]\n",
      "100%|██████████████████████████████████████████████████████████████████████████████████| 32/32 [00:04<00:00,  6.92it/s]\n",
      "100%|██████████████████████████████████████████████████████████████████████████████████| 32/32 [00:04<00:00,  7.57it/s]\n",
      "100%|██████████████████████████████████████████████████████████████████████████████████| 32/32 [00:04<00:00,  7.43it/s]\n",
      "100%|██████████████████████████████████████████████████████████████████████████████████| 32/32 [00:04<00:00,  7.52it/s]\n",
      "100%|██████████████████████████████████████████████████████████████████████████████████| 32/32 [00:04<00:00,  7.31it/s]\n",
      "100%|██████████████████████████████████████████████████████████████████████████████████| 32/32 [00:04<00:00,  7.09it/s]\n",
      "100%|██████████████████████████████████████████████████████████████████████████████████| 32/32 [00:04<00:00,  7.54it/s]\n",
      "100%|██████████████████████████████████████████████████████████████████████████████████| 32/32 [00:04<00:00,  7.13it/s]\n",
      "100%|██████████████████████████████████████████████████████████████████████████████████| 32/32 [00:04<00:00,  7.46it/s]\n",
      "100%|██████████████████████████████████████████████████████████████████████████████████| 32/32 [00:04<00:00,  7.15it/s]\n",
      "100%|██████████████████████████████████████████████████████████████████████████████████| 32/32 [00:04<00:00,  7.33it/s]\n",
      "100%|██████████████████████████████████████████████████████████████████████████████████| 32/32 [00:04<00:00,  7.42it/s]\n",
      "100%|██████████████████████████████████████████████████████████████████████████████████| 32/32 [00:04<00:00,  7.67it/s]\n",
      "100%|██████████████████████████████████████████████████████████████████████████████████| 32/32 [00:04<00:00,  7.82it/s]\n",
      "100%|██████████████████████████████████████████████████████████████████████████████████| 32/32 [00:04<00:00,  7.30it/s]\n",
      "100%|██████████████████████████████████████████████████████████████████████████████████| 32/32 [00:04<00:00,  7.50it/s]\n",
      "100%|██████████████████████████████████████████████████████████████████████████████████| 32/32 [00:04<00:00,  6.80it/s]\n"
     ]
    }
   ],
   "source": [
    "bif_n2v.train_predict(n_tiles=(2,4,4))"
   ]
  },
  {
   "cell_type": "code",
   "execution_count": null,
   "metadata": {},
   "outputs": [],
   "source": [
    "bif_n2v.params.save()"
   ]
  },
  {
   "cell_type": "code",
   "execution_count": null,
   "metadata": {},
   "outputs": [],
   "source": []
  }
 ],
 "metadata": {
  "kernelspec": {
   "display_name": "Python 3",
   "language": "python",
   "name": "python3"
  },
  "language_info": {
   "codemirror_mode": {
    "name": "ipython",
    "version": 3
   },
   "file_extension": ".py",
   "mimetype": "text/x-python",
   "name": "python",
   "nbconvert_exporter": "python",
   "pygments_lexer": "ipython3",
   "version": "3.6.4"
  }
 },
 "nbformat": 4,
 "nbformat_minor": 2
}
