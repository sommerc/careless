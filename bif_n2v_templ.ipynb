{
 "cells": [
  {
   "cell_type": "markdown",
   "metadata": {},
   "source": [
    "# Noise2void user interface\n",
    "---\n",
    "#### Usage\n",
    "\n",
    "A **code cell** will either:\n",
    "* import required modules\n",
    "* produce GUI elements for setting parameters or input files\n",
    "* execute a N2V processing step\n",
    "* an execution is finished, when the *****-symbol left of the code cell disappears\n",
    "\n",
    "Use **SHIFT+ENTER** to execute the selected code cell and step through the notebook\n",
    "\n",
    "#### Background\n",
    "* Input images will be loaded with the Bioformats library (supports e. g. tif, czi, lsm, etc.)\n",
    "* 2D, 3D and movies are supported.\n",
    "* Each channel will be processed independently\n",
    "* For more information visit the [BIF_CARE](https://github.com/sommerc/bif_care) or the [N2V](https://github.com/juglab/n2v) webpage"
   ]
  },
  {
   "cell_type": "code",
   "execution_count": null,
   "metadata": {},
   "outputs": [],
   "source": [
    "from bif_n2v import bif_n2v\n",
    "# get_ipython().magic('reload_ext autoreload')\n",
    "# get_ipython().magic('autoreload 2')"
   ]
  },
  {
   "cell_type": "markdown",
   "metadata": {},
   "source": [
    "## 0. Create or load project file\n",
    "___"
   ]
  },
  {
   "cell_type": "code",
   "execution_count": null,
   "metadata": {},
   "outputs": [],
   "source": [
    "bif_n2v.select_project()"
   ]
  },
  {
   "cell_type": "markdown",
   "metadata": {},
   "source": [
    "## 1. Input files\n",
    "---"
   ]
  },
  {
   "cell_type": "code",
   "execution_count": null,
   "metadata": {},
   "outputs": [],
   "source": [
    "bif_n2v.select_input()"
   ]
  },
  {
   "cell_type": "markdown",
   "metadata": {},
   "source": [
    "## 2. Parameters\n",
    "___"
   ]
  },
  {
   "cell_type": "code",
   "execution_count": null,
   "metadata": {},
   "outputs": [],
   "source": [
    "bif_n2v.select_channel()\n",
    "bif_n2v.select_patch_parameter()\n",
    "bif_n2v.select_npatch_per_image()\n",
    "bif_n2v.select_augment()\n",
    "bif_n2v.select_n2v_parameter()\n",
    "bif_n2v.select_train_paramter()"
   ]
  },
  {
   "cell_type": "markdown",
   "metadata": {},
   "source": [
    "## 3. Denoise (train and predict)\n",
    "---\n",
    "* Images will be tiled according to the **n_tiles** (z,y,x) parameter. (usefull for big images)\n",
    "* For advanced training parameters type and execute *bif_n2v.train_predict?* in an empty code cell"
   ]
  },
  {
   "cell_type": "code",
   "execution_count": null,
   "metadata": {},
   "outputs": [],
   "source": [
    "bif_n2v.params.save()\n",
    "a = bif_n2v.train_predict(n_tiles=(1,4,4))"
   ]
  },
  {
   "cell_type": "markdown",
   "metadata": {},
   "source": [
    "## 4. Predict only\n",
    "---\n",
    "\n",
    "**requires loaded and trained project**"
   ]
  },
  {
   "cell_type": "code",
   "execution_count": null,
   "metadata": {},
   "outputs": [],
   "source": [
    "files = bif_n2v.select_file_to_predict()"
   ]
  },
  {
   "cell_type": "code",
   "execution_count": null,
   "metadata": {},
   "outputs": [],
   "source": [
    "bif_n2v.predict(files.value, n_tiles=(1,4,4))"
   ]
  },
  {
   "cell_type": "code",
   "execution_count": null,
   "metadata": {},
   "outputs": [],
   "source": []
  }
 ],
 "metadata": {
  "kernelspec": {
   "display_name": "Python 3",
   "language": "python",
   "name": "python3"
  },
  "language_info": {
   "codemirror_mode": {
    "name": "ipython",
    "version": 3
   },
   "file_extension": ".py",
   "mimetype": "text/x-python",
   "name": "python",
   "nbconvert_exporter": "python",
   "pygments_lexer": "ipython3",
   "version": "3.6.4"
  }
 },
 "nbformat": 4,
 "nbformat_minor": 2
}
